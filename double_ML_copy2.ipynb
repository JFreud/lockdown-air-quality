{
 "cells": [
  {
   "cell_type": "code",
   "execution_count": 1,
   "metadata": {},
   "outputs": [],
   "source": [
    "import numpy as np\n",
    "import pandas as pd\n",
    "import scipy as sp\n",
    "import matplotlib.pyplot as plt\n",
    "\n",
    "from sklearn import preprocessing\n",
    "from sklearn.linear_model import LinearRegression, LogisticRegression\n",
    "from sklearn.ensemble import RandomForestClassifier, RandomForestRegressor\n",
    "from sklearn.model_selection import KFold, StratifiedKFold, train_test_split\n",
    "from sklearn.metrics import mean_squared_error, log_loss\n",
    "import sklearn\n",
    "import os\n",
    "\n",
    "from utils.double_ml import *\n",
    "from utils.analysis import *"
   ]
  },
  {
   "cell_type": "code",
   "execution_count": 2,
   "metadata": {},
   "outputs": [],
   "source": [
    "RANDOM_SEED = 42"
   ]
  },
  {
   "cell_type": "markdown",
   "metadata": {},
   "source": [
    "### Import data"
   ]
  },
  {
   "cell_type": "code",
   "execution_count": 3,
   "metadata": {},
   "outputs": [],
   "source": [
    "wf2020 = make_wf2020()\n",
    "\n",
    "fixed = ['treat']\n",
    "city_fixed = []\n",
    "time_fixed = []\n",
    "for col in wf2020.columns:\n",
    "    if 'cities' in col:\n",
    "        city_fixed.append(col)\n",
    "    if 'days' in col:\n",
    "        time_fixed.append(col)\n",
    "fixed = fixed + city_fixed + time_fixed\n",
    "        \n",
    "weather = ['prec', 'snow', 'temp', 'temp2']\n",
    "city_economic = ['pop_city', 'sec_city', 'gdp_city' , 'pgdp_city', 'firm_city']\n",
    "city_environmental = ['gonglu', 'emit_ww', 'emit_so1', 'emi_dust1']\n",
    "out = [\"aqi\", \"l_aqi\", \"pm\", \"l_pm\"]"
   ]
  },
  {
   "cell_type": "code",
   "execution_count": 4,
   "metadata": {},
   "outputs": [],
   "source": [
    "day, count, num_cities = get_day_count(wf2020)\n",
    "treat_day = day[count == max(count)][0]"
   ]
  },
  {
   "cell_type": "markdown",
   "metadata": {},
   "source": [
    "### Single time period"
   ]
  },
  {
   "cell_type": "code",
   "execution_count": 5,
   "metadata": {},
   "outputs": [
    {
     "name": "stderr",
     "output_type": "stream",
     "text": [
      "/Users/jtf/anaconda3/envs/mamba-base-env/envs/nn_class/lib/python3.7/site-packages/pandas/core/indexing.py:1667: SettingWithCopyWarning: \n",
      "A value is trying to be set on a copy of a slice from a DataFrame.\n",
      "Try using .loc[row_indexer,col_indexer] = value instead\n",
      "\n",
      "See the caveats in the documentation: https://pandas.pydata.org/pandas-docs/stable/user_guide/indexing.html#returning-a-view-versus-a-copy\n",
      "  self.obj[key] = value\n"
     ]
    },
    {
     "name": "stdout",
     "output_type": "stream",
     "text": [
      "The estimate is -35.04651188879948 pm 11.730398758415467\n"
     ]
    }
   ],
   "source": [
    "tau_hat, std_hat = single_period_estimate(wf2020, treat_day=8426, outcome_var='aqi', \n",
    "                                          confounder_list=weather + city_fixed + time_fixed,\n",
    "                                          Q_model_class=LinearRegression, Q_model_params={},\n",
    "                                          g_model_class=LogisticRegression, g_model_params={'max_iter':1000})\n",
    "\n",
    "print(f\"The estimate is {tau_hat} pm {1.96*std_hat}\")"
   ]
  },
  {
   "cell_type": "markdown",
   "metadata": {},
   "source": [
    "### Multiple time periods"
   ]
  },
  {
   "cell_type": "code",
   "execution_count": 6,
   "metadata": {},
   "outputs": [
    {
     "name": "stdout",
     "output_type": "stream",
     "text": [
      "-9.556 pm 2.947\n"
     ]
    }
   ],
   "source": [
    "wf2020 = make_wf2020()\n",
    "tau_hat, std_hat = multi_period_estimate(wf2020, outcome_var='aqi', \n",
    "                                         confounder_list=weather + city_fixed + time_fixed,\n",
    "                                         Q_model_class=RandomForestRegressor, Q_model_params={\n",
    "                                             'random_state': RANDOM_SEED,\n",
    "                                             'n_estimators': 100,\n",
    "                                             'max_depth': 10\n",
    "                                         },\n",
    "                                         g_model_class=RandomForestClassifier, g_model_params={\n",
    "                                             'random_state': RANDOM_SEED,\n",
    "                                             'n_estimators': 100,\n",
    "                                             'max_depth': 3\n",
    "                                         }\n",
    "                                         )\n",
    "print('%0.3f pm %0.3f' % (tau_hat, std_hat))"
   ]
  },
  {
   "cell_type": "code",
   "execution_count": 42,
   "metadata": {},
   "outputs": [],
   "source": [
    "dummy = wf2020['pastweek_mean'] = wf2020.groupby('city_code')['aqi'].transform(\n",
    "        lambda x: pd.Series.rolling(window=7, min_periods=7).mean()\n",
    "    )"
   ]
  },
  {
   "cell_type": "code",
   "execution_count": 46,
   "metadata": {},
   "outputs": [
    {
     "ename": "ValueError",
     "evalue": "Columns must be same length as key",
     "output_type": "error",
     "traceback": [
      "\u001b[0;31m---------------------------------------------------------------------------\u001b[0m",
      "\u001b[0;31mValueError\u001b[0m                                Traceback (most recent call last)",
      "\u001b[0;32m/var/folders/nc/fqqwvdqs759d6pq_6y78575c0000gp/T/ipykernel_984/1949920917.py\u001b[0m in \u001b[0;36m<module>\u001b[0;34m\u001b[0m\n\u001b[0;32m----> 1\u001b[0;31m \u001b[0mwf2020\u001b[0m\u001b[0;34m[\u001b[0m\u001b[0;34m'pastweek_mean'\u001b[0m\u001b[0;34m]\u001b[0m \u001b[0;34m=\u001b[0m \u001b[0mwf2020\u001b[0m\u001b[0;34m.\u001b[0m\u001b[0mgroupby\u001b[0m\u001b[0;34m(\u001b[0m\u001b[0;34m[\u001b[0m\u001b[0;34m'daynum'\u001b[0m\u001b[0;34m,\u001b[0m \u001b[0;34m'city_code'\u001b[0m\u001b[0;34m]\u001b[0m\u001b[0;34m)\u001b[0m\u001b[0;34m.\u001b[0m\u001b[0mrolling\u001b[0m\u001b[0;34m(\u001b[0m\u001b[0mwindow\u001b[0m\u001b[0;34m=\u001b[0m\u001b[0;36m7\u001b[0m\u001b[0;34m,\u001b[0m \u001b[0mmin_periods\u001b[0m\u001b[0;34m=\u001b[0m\u001b[0;36m7\u001b[0m\u001b[0;34m)\u001b[0m\u001b[0;34m[\u001b[0m\u001b[0;34m'aqi'\u001b[0m\u001b[0;34m]\u001b[0m\u001b[0;34m.\u001b[0m\u001b[0mmean\u001b[0m\u001b[0;34m(\u001b[0m\u001b[0;34m)\u001b[0m\u001b[0;34m.\u001b[0m\u001b[0mreset_index\u001b[0m\u001b[0;34m(\u001b[0m\u001b[0;34m)\u001b[0m\u001b[0;34m\u001b[0m\u001b[0;34m\u001b[0m\u001b[0m\n\u001b[0m",
      "\u001b[0;32m~/anaconda3/envs/mamba-base-env/envs/nn_class/lib/python3.7/site-packages/pandas/core/frame.py\u001b[0m in \u001b[0;36m__setitem__\u001b[0;34m(self, key, value)\u001b[0m\n\u001b[1;32m   3600\u001b[0m             \u001b[0mself\u001b[0m\u001b[0;34m.\u001b[0m\u001b[0m_setitem_array\u001b[0m\u001b[0;34m(\u001b[0m\u001b[0mkey\u001b[0m\u001b[0;34m,\u001b[0m \u001b[0mvalue\u001b[0m\u001b[0;34m)\u001b[0m\u001b[0;34m\u001b[0m\u001b[0;34m\u001b[0m\u001b[0m\n\u001b[1;32m   3601\u001b[0m         \u001b[0;32melif\u001b[0m \u001b[0misinstance\u001b[0m\u001b[0;34m(\u001b[0m\u001b[0mvalue\u001b[0m\u001b[0;34m,\u001b[0m \u001b[0mDataFrame\u001b[0m\u001b[0;34m)\u001b[0m\u001b[0;34m:\u001b[0m\u001b[0;34m\u001b[0m\u001b[0;34m\u001b[0m\u001b[0m\n\u001b[0;32m-> 3602\u001b[0;31m             \u001b[0mself\u001b[0m\u001b[0;34m.\u001b[0m\u001b[0m_set_item_frame_value\u001b[0m\u001b[0;34m(\u001b[0m\u001b[0mkey\u001b[0m\u001b[0;34m,\u001b[0m \u001b[0mvalue\u001b[0m\u001b[0;34m)\u001b[0m\u001b[0;34m\u001b[0m\u001b[0;34m\u001b[0m\u001b[0m\n\u001b[0m\u001b[1;32m   3603\u001b[0m         elif (\n\u001b[1;32m   3604\u001b[0m             \u001b[0mis_list_like\u001b[0m\u001b[0;34m(\u001b[0m\u001b[0mvalue\u001b[0m\u001b[0;34m)\u001b[0m\u001b[0;34m\u001b[0m\u001b[0;34m\u001b[0m\u001b[0m\n",
      "\u001b[0;32m~/anaconda3/envs/mamba-base-env/envs/nn_class/lib/python3.7/site-packages/pandas/core/frame.py\u001b[0m in \u001b[0;36m_set_item_frame_value\u001b[0;34m(self, key, value)\u001b[0m\n\u001b[1;32m   3727\u001b[0m             \u001b[0mlen_cols\u001b[0m \u001b[0;34m=\u001b[0m \u001b[0;36m1\u001b[0m \u001b[0;32mif\u001b[0m \u001b[0mis_scalar\u001b[0m\u001b[0;34m(\u001b[0m\u001b[0mcols\u001b[0m\u001b[0;34m)\u001b[0m \u001b[0;32melse\u001b[0m \u001b[0mlen\u001b[0m\u001b[0;34m(\u001b[0m\u001b[0mcols\u001b[0m\u001b[0;34m)\u001b[0m\u001b[0;34m\u001b[0m\u001b[0;34m\u001b[0m\u001b[0m\n\u001b[1;32m   3728\u001b[0m             \u001b[0;32mif\u001b[0m \u001b[0mlen_cols\u001b[0m \u001b[0;34m!=\u001b[0m \u001b[0mlen\u001b[0m\u001b[0;34m(\u001b[0m\u001b[0mvalue\u001b[0m\u001b[0;34m.\u001b[0m\u001b[0mcolumns\u001b[0m\u001b[0;34m)\u001b[0m\u001b[0;34m:\u001b[0m\u001b[0;34m\u001b[0m\u001b[0;34m\u001b[0m\u001b[0m\n\u001b[0;32m-> 3729\u001b[0;31m                 \u001b[0;32mraise\u001b[0m \u001b[0mValueError\u001b[0m\u001b[0;34m(\u001b[0m\u001b[0;34m\"Columns must be same length as key\"\u001b[0m\u001b[0;34m)\u001b[0m\u001b[0;34m\u001b[0m\u001b[0;34m\u001b[0m\u001b[0m\n\u001b[0m\u001b[1;32m   3730\u001b[0m \u001b[0;34m\u001b[0m\u001b[0m\n\u001b[1;32m   3731\u001b[0m             \u001b[0;31m# align right-hand-side columns if self.columns\u001b[0m\u001b[0;34m\u001b[0m\u001b[0;34m\u001b[0m\u001b[0;34m\u001b[0m\u001b[0m\n",
      "\u001b[0;31mValueError\u001b[0m: Columns must be same length as key"
     ]
    }
   ],
   "source": [
    "wf2020['pastweek_mean'] = wf2020.groupby(['daynum', 'city_code']).rolling(window=7, min_periods=7)['aqi'].mean().reset_index()"
   ]
  },
  {
   "cell_type": "code",
   "execution_count": 28,
   "metadata": {},
   "outputs": [
    {
     "data": {
      "text/plain": [
       "365       8401\n",
       "804       8401\n",
       "1243      8401\n",
       "1682      8401\n",
       "2121      8401\n",
       "          ... \n",
       "142162    8401\n",
       "142601    8401\n",
       "143040    8401\n",
       "143479    8401\n",
       "144357    8401\n",
       "Name: 8401, Length: 324, dtype: int64"
      ]
     },
     "metadata": {},
     "output_type": "display_data"
    },
    {
     "data": {
      "text/plain": [
       "366       8402\n",
       "805       8402\n",
       "1244      8402\n",
       "1683      8402\n",
       "2122      8402\n",
       "          ... \n",
       "142163    8402\n",
       "142602    8402\n",
       "143041    8402\n",
       "143480    8402\n",
       "144358    8402\n",
       "Name: 8402, Length: 324, dtype: int64"
      ]
     },
     "metadata": {},
     "output_type": "display_data"
    },
    {
     "data": {
      "text/plain": [
       "367       8403\n",
       "806       8403\n",
       "1245      8403\n",
       "1684      8403\n",
       "2123      8403\n",
       "          ... \n",
       "142164    8403\n",
       "142603    8403\n",
       "143042    8403\n",
       "143481    8403\n",
       "144359    8403\n",
       "Name: 8403, Length: 324, dtype: int64"
      ]
     },
     "metadata": {},
     "output_type": "display_data"
    },
    {
     "data": {
      "text/plain": [
       "368       8404\n",
       "807       8404\n",
       "1246      8404\n",
       "1685      8404\n",
       "2124      8404\n",
       "          ... \n",
       "142165    8404\n",
       "142604    8404\n",
       "143043    8404\n",
       "143482    8404\n",
       "144360    8404\n",
       "Name: 8404, Length: 324, dtype: int64"
      ]
     },
     "metadata": {},
     "output_type": "display_data"
    },
    {
     "data": {
      "text/plain": [
       "369       8405\n",
       "808       8405\n",
       "1247      8405\n",
       "1686      8405\n",
       "2125      8405\n",
       "          ... \n",
       "142166    8405\n",
       "142605    8405\n",
       "143044    8405\n",
       "143483    8405\n",
       "144361    8405\n",
       "Name: 8405, Length: 324, dtype: int64"
      ]
     },
     "metadata": {},
     "output_type": "display_data"
    },
    {
     "data": {
      "text/plain": [
       "370       8406\n",
       "809       8406\n",
       "1248      8406\n",
       "1687      8406\n",
       "2126      8406\n",
       "          ... \n",
       "142167    8406\n",
       "142606    8406\n",
       "143045    8406\n",
       "143484    8406\n",
       "144362    8406\n",
       "Name: 8406, Length: 324, dtype: int64"
      ]
     },
     "metadata": {},
     "output_type": "display_data"
    },
    {
     "data": {
      "text/plain": [
       "371       8407\n",
       "810       8407\n",
       "1249      8407\n",
       "1688      8407\n",
       "2127      8407\n",
       "          ... \n",
       "142168    8407\n",
       "142607    8407\n",
       "143046    8407\n",
       "143485    8407\n",
       "144363    8407\n",
       "Name: 8407, Length: 324, dtype: int64"
      ]
     },
     "metadata": {},
     "output_type": "display_data"
    },
    {
     "data": {
      "text/plain": [
       "372       8408\n",
       "811       8408\n",
       "1250      8408\n",
       "1689      8408\n",
       "2128      8408\n",
       "          ... \n",
       "142169    8408\n",
       "142608    8408\n",
       "143047    8408\n",
       "143486    8408\n",
       "144364    8408\n",
       "Name: 8408, Length: 324, dtype: int64"
      ]
     },
     "metadata": {},
     "output_type": "display_data"
    },
    {
     "data": {
      "text/plain": [
       "373       8409\n",
       "812       8409\n",
       "1251      8409\n",
       "1690      8409\n",
       "2129      8409\n",
       "          ... \n",
       "142170    8409\n",
       "142609    8409\n",
       "143048    8409\n",
       "143487    8409\n",
       "144365    8409\n",
       "Name: 8409, Length: 324, dtype: int64"
      ]
     },
     "metadata": {},
     "output_type": "display_data"
    },
    {
     "data": {
      "text/plain": [
       "374       8410\n",
       "813       8410\n",
       "1252      8410\n",
       "1691      8410\n",
       "2130      8410\n",
       "          ... \n",
       "142171    8410\n",
       "142610    8410\n",
       "143049    8410\n",
       "143488    8410\n",
       "144366    8410\n",
       "Name: 8410, Length: 324, dtype: int64"
      ]
     },
     "metadata": {},
     "output_type": "display_data"
    },
    {
     "data": {
      "text/plain": [
       "375       8411\n",
       "814       8411\n",
       "1253      8411\n",
       "1692      8411\n",
       "2131      8411\n",
       "          ... \n",
       "142172    8411\n",
       "142611    8411\n",
       "143050    8411\n",
       "143489    8411\n",
       "144367    8411\n",
       "Name: 8411, Length: 324, dtype: int64"
      ]
     },
     "metadata": {},
     "output_type": "display_data"
    },
    {
     "data": {
      "text/plain": [
       "376       8412\n",
       "815       8412\n",
       "1254      8412\n",
       "1693      8412\n",
       "2132      8412\n",
       "          ... \n",
       "142173    8412\n",
       "142612    8412\n",
       "143051    8412\n",
       "143490    8412\n",
       "144368    8412\n",
       "Name: 8412, Length: 324, dtype: int64"
      ]
     },
     "metadata": {},
     "output_type": "display_data"
    },
    {
     "data": {
      "text/plain": [
       "377       8413\n",
       "816       8413\n",
       "1255      8413\n",
       "1694      8413\n",
       "2133      8413\n",
       "          ... \n",
       "142174    8413\n",
       "142613    8413\n",
       "143052    8413\n",
       "143491    8413\n",
       "144369    8413\n",
       "Name: 8413, Length: 324, dtype: int64"
      ]
     },
     "metadata": {},
     "output_type": "display_data"
    },
    {
     "data": {
      "text/plain": [
       "378       8414\n",
       "817       8414\n",
       "1256      8414\n",
       "1695      8414\n",
       "2134      8414\n",
       "          ... \n",
       "142175    8414\n",
       "142614    8414\n",
       "143053    8414\n",
       "143492    8414\n",
       "144370    8414\n",
       "Name: 8414, Length: 324, dtype: int64"
      ]
     },
     "metadata": {},
     "output_type": "display_data"
    },
    {
     "data": {
      "text/plain": [
       "379       8415\n",
       "818       8415\n",
       "1257      8415\n",
       "1696      8415\n",
       "2135      8415\n",
       "          ... \n",
       "142176    8415\n",
       "142615    8415\n",
       "143054    8415\n",
       "143493    8415\n",
       "144371    8415\n",
       "Name: 8415, Length: 324, dtype: int64"
      ]
     },
     "metadata": {},
     "output_type": "display_data"
    },
    {
     "data": {
      "text/plain": [
       "380       8416\n",
       "819       8416\n",
       "1258      8416\n",
       "1697      8416\n",
       "2136      8416\n",
       "          ... \n",
       "142177    8416\n",
       "142616    8416\n",
       "143055    8416\n",
       "143494    8416\n",
       "144372    8416\n",
       "Name: 8416, Length: 324, dtype: int64"
      ]
     },
     "metadata": {},
     "output_type": "display_data"
    },
    {
     "data": {
      "text/plain": [
       "381       8417\n",
       "820       8417\n",
       "1259      8417\n",
       "1698      8417\n",
       "2137      8417\n",
       "          ... \n",
       "142178    8417\n",
       "142617    8417\n",
       "143056    8417\n",
       "143495    8417\n",
       "144373    8417\n",
       "Name: 8417, Length: 324, dtype: int64"
      ]
     },
     "metadata": {},
     "output_type": "display_data"
    },
    {
     "data": {
      "text/plain": [
       "382       8418\n",
       "821       8418\n",
       "1260      8418\n",
       "1699      8418\n",
       "2138      8418\n",
       "          ... \n",
       "142179    8418\n",
       "142618    8418\n",
       "143057    8418\n",
       "143496    8418\n",
       "144374    8418\n",
       "Name: 8418, Length: 324, dtype: int64"
      ]
     },
     "metadata": {},
     "output_type": "display_data"
    },
    {
     "data": {
      "text/plain": [
       "383       8419\n",
       "822       8419\n",
       "1261      8419\n",
       "1700      8419\n",
       "2139      8419\n",
       "          ... \n",
       "142180    8419\n",
       "142619    8419\n",
       "143058    8419\n",
       "143497    8419\n",
       "144375    8419\n",
       "Name: 8419, Length: 324, dtype: int64"
      ]
     },
     "metadata": {},
     "output_type": "display_data"
    },
    {
     "data": {
      "text/plain": [
       "384       8420\n",
       "823       8420\n",
       "1262      8420\n",
       "1701      8420\n",
       "2140      8420\n",
       "          ... \n",
       "142181    8420\n",
       "142620    8420\n",
       "143059    8420\n",
       "143498    8420\n",
       "144376    8420\n",
       "Name: 8420, Length: 324, dtype: int64"
      ]
     },
     "metadata": {},
     "output_type": "display_data"
    },
    {
     "data": {
      "text/plain": [
       "385       8421\n",
       "824       8421\n",
       "1263      8421\n",
       "1702      8421\n",
       "2141      8421\n",
       "          ... \n",
       "142182    8421\n",
       "142621    8421\n",
       "143060    8421\n",
       "143499    8421\n",
       "144377    8421\n",
       "Name: 8421, Length: 324, dtype: int64"
      ]
     },
     "metadata": {},
     "output_type": "display_data"
    },
    {
     "data": {
      "text/plain": [
       "386       8422\n",
       "825       8422\n",
       "1264      8422\n",
       "1703      8422\n",
       "2142      8422\n",
       "          ... \n",
       "142183    8422\n",
       "142622    8422\n",
       "143061    8422\n",
       "143500    8422\n",
       "144378    8422\n",
       "Name: 8422, Length: 324, dtype: int64"
      ]
     },
     "metadata": {},
     "output_type": "display_data"
    },
    {
     "data": {
      "text/plain": [
       "387       8423\n",
       "826       8423\n",
       "1265      8423\n",
       "1704      8423\n",
       "2143      8423\n",
       "          ... \n",
       "142184    8423\n",
       "142623    8423\n",
       "143062    8423\n",
       "143501    8423\n",
       "144379    8423\n",
       "Name: 8423, Length: 324, dtype: int64"
      ]
     },
     "metadata": {},
     "output_type": "display_data"
    },
    {
     "data": {
      "text/plain": [
       "388       8424\n",
       "827       8424\n",
       "1266      8424\n",
       "1705      8424\n",
       "2144      8424\n",
       "          ... \n",
       "142185    8424\n",
       "142624    8424\n",
       "143063    8424\n",
       "143502    8424\n",
       "144380    8424\n",
       "Name: 8424, Length: 324, dtype: int64"
      ]
     },
     "metadata": {},
     "output_type": "display_data"
    },
    {
     "data": {
      "text/plain": [
       "389       8425\n",
       "828       8425\n",
       "1267      8425\n",
       "1706      8425\n",
       "2145      8425\n",
       "          ... \n",
       "142186    8425\n",
       "142625    8425\n",
       "143064    8425\n",
       "143503    8425\n",
       "144381    8425\n",
       "Name: 8425, Length: 324, dtype: int64"
      ]
     },
     "metadata": {},
     "output_type": "display_data"
    },
    {
     "data": {
      "text/plain": [
       "390       8426\n",
       "829       8426\n",
       "1268      8426\n",
       "1707      8426\n",
       "2146      8426\n",
       "          ... \n",
       "142187    8426\n",
       "142626    8426\n",
       "143065    8426\n",
       "143504    8426\n",
       "144382    8426\n",
       "Name: 8426, Length: 324, dtype: int64"
      ]
     },
     "metadata": {},
     "output_type": "display_data"
    },
    {
     "data": {
      "text/plain": [
       "391       8427\n",
       "830       8427\n",
       "1269      8427\n",
       "1708      8427\n",
       "2147      8427\n",
       "          ... \n",
       "142188    8427\n",
       "142627    8427\n",
       "143066    8427\n",
       "143505    8427\n",
       "144383    8427\n",
       "Name: 8427, Length: 324, dtype: int64"
      ]
     },
     "metadata": {},
     "output_type": "display_data"
    },
    {
     "data": {
      "text/plain": [
       "392       8428\n",
       "831       8428\n",
       "1270      8428\n",
       "1709      8428\n",
       "2148      8428\n",
       "          ... \n",
       "142189    8428\n",
       "142628    8428\n",
       "143067    8428\n",
       "143506    8428\n",
       "144384    8428\n",
       "Name: 8428, Length: 324, dtype: int64"
      ]
     },
     "metadata": {},
     "output_type": "display_data"
    },
    {
     "data": {
      "text/plain": [
       "393       8429\n",
       "832       8429\n",
       "1271      8429\n",
       "1710      8429\n",
       "2149      8429\n",
       "          ... \n",
       "142190    8429\n",
       "142629    8429\n",
       "143068    8429\n",
       "143507    8429\n",
       "144385    8429\n",
       "Name: 8429, Length: 324, dtype: int64"
      ]
     },
     "metadata": {},
     "output_type": "display_data"
    },
    {
     "data": {
      "text/plain": [
       "394       8430\n",
       "833       8430\n",
       "1272      8430\n",
       "1711      8430\n",
       "2150      8430\n",
       "          ... \n",
       "142191    8430\n",
       "142630    8430\n",
       "143069    8430\n",
       "143508    8430\n",
       "144386    8430\n",
       "Name: 8430, Length: 324, dtype: int64"
      ]
     },
     "metadata": {},
     "output_type": "display_data"
    },
    {
     "data": {
      "text/plain": [
       "395       8431\n",
       "834       8431\n",
       "1273      8431\n",
       "1712      8431\n",
       "2151      8431\n",
       "          ... \n",
       "142192    8431\n",
       "142631    8431\n",
       "143070    8431\n",
       "143509    8431\n",
       "144387    8431\n",
       "Name: 8431, Length: 324, dtype: int64"
      ]
     },
     "metadata": {},
     "output_type": "display_data"
    },
    {
     "data": {
      "text/plain": [
       "396       8432\n",
       "835       8432\n",
       "1274      8432\n",
       "1713      8432\n",
       "2152      8432\n",
       "          ... \n",
       "142193    8432\n",
       "142632    8432\n",
       "143071    8432\n",
       "143510    8432\n",
       "144388    8432\n",
       "Name: 8432, Length: 324, dtype: int64"
      ]
     },
     "metadata": {},
     "output_type": "display_data"
    },
    {
     "data": {
      "text/plain": [
       "397       8433\n",
       "836       8433\n",
       "1275      8433\n",
       "1714      8433\n",
       "2153      8433\n",
       "          ... \n",
       "142194    8433\n",
       "142633    8433\n",
       "143072    8433\n",
       "143511    8433\n",
       "144389    8433\n",
       "Name: 8433, Length: 324, dtype: int64"
      ]
     },
     "metadata": {},
     "output_type": "display_data"
    },
    {
     "data": {
      "text/plain": [
       "398       8434\n",
       "837       8434\n",
       "1276      8434\n",
       "1715      8434\n",
       "2154      8434\n",
       "          ... \n",
       "142195    8434\n",
       "142634    8434\n",
       "143073    8434\n",
       "143512    8434\n",
       "144390    8434\n",
       "Name: 8434, Length: 324, dtype: int64"
      ]
     },
     "metadata": {},
     "output_type": "display_data"
    },
    {
     "data": {
      "text/plain": [
       "399       8435\n",
       "838       8435\n",
       "1277      8435\n",
       "1716      8435\n",
       "2155      8435\n",
       "          ... \n",
       "142196    8435\n",
       "142635    8435\n",
       "143074    8435\n",
       "143513    8435\n",
       "144391    8435\n",
       "Name: 8435, Length: 324, dtype: int64"
      ]
     },
     "metadata": {},
     "output_type": "display_data"
    },
    {
     "data": {
      "text/plain": [
       "400       8436\n",
       "839       8436\n",
       "1278      8436\n",
       "1717      8436\n",
       "2156      8436\n",
       "          ... \n",
       "142197    8436\n",
       "142636    8436\n",
       "143075    8436\n",
       "143514    8436\n",
       "144392    8436\n",
       "Name: 8436, Length: 324, dtype: int64"
      ]
     },
     "metadata": {},
     "output_type": "display_data"
    },
    {
     "data": {
      "text/plain": [
       "401       8437\n",
       "840       8437\n",
       "1279      8437\n",
       "1718      8437\n",
       "2157      8437\n",
       "          ... \n",
       "142198    8437\n",
       "142637    8437\n",
       "143076    8437\n",
       "143515    8437\n",
       "144393    8437\n",
       "Name: 8437, Length: 324, dtype: int64"
      ]
     },
     "metadata": {},
     "output_type": "display_data"
    },
    {
     "data": {
      "text/plain": [
       "402       8438\n",
       "841       8438\n",
       "1280      8438\n",
       "1719      8438\n",
       "2158      8438\n",
       "          ... \n",
       "142199    8438\n",
       "142638    8438\n",
       "143077    8438\n",
       "143516    8438\n",
       "144394    8438\n",
       "Name: 8438, Length: 324, dtype: int64"
      ]
     },
     "metadata": {},
     "output_type": "display_data"
    },
    {
     "data": {
      "text/plain": [
       "403       8439\n",
       "842       8439\n",
       "1281      8439\n",
       "1720      8439\n",
       "2159      8439\n",
       "          ... \n",
       "142200    8439\n",
       "142639    8439\n",
       "143078    8439\n",
       "143517    8439\n",
       "144395    8439\n",
       "Name: 8439, Length: 324, dtype: int64"
      ]
     },
     "metadata": {},
     "output_type": "display_data"
    },
    {
     "data": {
      "text/plain": [
       "404       8440\n",
       "843       8440\n",
       "1282      8440\n",
       "1721      8440\n",
       "2160      8440\n",
       "          ... \n",
       "142201    8440\n",
       "142640    8440\n",
       "143079    8440\n",
       "143518    8440\n",
       "144396    8440\n",
       "Name: 8440, Length: 324, dtype: int64"
      ]
     },
     "metadata": {},
     "output_type": "display_data"
    },
    {
     "data": {
      "text/plain": [
       "405       8441\n",
       "844       8441\n",
       "1283      8441\n",
       "1722      8441\n",
       "2161      8441\n",
       "          ... \n",
       "142202    8441\n",
       "142641    8441\n",
       "143080    8441\n",
       "143519    8441\n",
       "144397    8441\n",
       "Name: 8441, Length: 324, dtype: int64"
      ]
     },
     "metadata": {},
     "output_type": "display_data"
    },
    {
     "data": {
      "text/plain": [
       "406       8442\n",
       "845       8442\n",
       "1284      8442\n",
       "1723      8442\n",
       "2162      8442\n",
       "          ... \n",
       "142203    8442\n",
       "142642    8442\n",
       "143081    8442\n",
       "143520    8442\n",
       "144398    8442\n",
       "Name: 8442, Length: 324, dtype: int64"
      ]
     },
     "metadata": {},
     "output_type": "display_data"
    },
    {
     "data": {
      "text/plain": [
       "407       8443\n",
       "846       8443\n",
       "1285      8443\n",
       "1724      8443\n",
       "2163      8443\n",
       "          ... \n",
       "142204    8443\n",
       "142643    8443\n",
       "143082    8443\n",
       "143521    8443\n",
       "144399    8443\n",
       "Name: 8443, Length: 324, dtype: int64"
      ]
     },
     "metadata": {},
     "output_type": "display_data"
    },
    {
     "data": {
      "text/plain": [
       "408       8444\n",
       "847       8444\n",
       "1286      8444\n",
       "1725      8444\n",
       "2164      8444\n",
       "          ... \n",
       "142205    8444\n",
       "142644    8444\n",
       "143083    8444\n",
       "143522    8444\n",
       "144400    8444\n",
       "Name: 8444, Length: 324, dtype: int64"
      ]
     },
     "metadata": {},
     "output_type": "display_data"
    },
    {
     "data": {
      "text/plain": [
       "409       8445\n",
       "848       8445\n",
       "1287      8445\n",
       "1726      8445\n",
       "2165      8445\n",
       "          ... \n",
       "142206    8445\n",
       "142645    8445\n",
       "143084    8445\n",
       "143523    8445\n",
       "144401    8445\n",
       "Name: 8445, Length: 324, dtype: int64"
      ]
     },
     "metadata": {},
     "output_type": "display_data"
    },
    {
     "data": {
      "text/plain": [
       "410       8446\n",
       "849       8446\n",
       "1288      8446\n",
       "1727      8446\n",
       "2166      8446\n",
       "          ... \n",
       "142207    8446\n",
       "142646    8446\n",
       "143085    8446\n",
       "143524    8446\n",
       "144402    8446\n",
       "Name: 8446, Length: 324, dtype: int64"
      ]
     },
     "metadata": {},
     "output_type": "display_data"
    },
    {
     "data": {
      "text/plain": [
       "411       8447\n",
       "850       8447\n",
       "1289      8447\n",
       "1728      8447\n",
       "2167      8447\n",
       "          ... \n",
       "142208    8447\n",
       "142647    8447\n",
       "143086    8447\n",
       "143525    8447\n",
       "144403    8447\n",
       "Name: 8447, Length: 324, dtype: int64"
      ]
     },
     "metadata": {},
     "output_type": "display_data"
    },
    {
     "data": {
      "text/plain": [
       "412       8448\n",
       "851       8448\n",
       "1290      8448\n",
       "1729      8448\n",
       "2168      8448\n",
       "          ... \n",
       "142209    8448\n",
       "142648    8448\n",
       "143087    8448\n",
       "143526    8448\n",
       "144404    8448\n",
       "Name: 8448, Length: 324, dtype: int64"
      ]
     },
     "metadata": {},
     "output_type": "display_data"
    },
    {
     "data": {
      "text/plain": [
       "413       8449\n",
       "852       8449\n",
       "1291      8449\n",
       "1730      8449\n",
       "2169      8449\n",
       "          ... \n",
       "142210    8449\n",
       "142649    8449\n",
       "143088    8449\n",
       "143527    8449\n",
       "144405    8449\n",
       "Name: 8449, Length: 324, dtype: int64"
      ]
     },
     "metadata": {},
     "output_type": "display_data"
    },
    {
     "data": {
      "text/plain": [
       "414       8450\n",
       "853       8450\n",
       "1292      8450\n",
       "1731      8450\n",
       "2170      8450\n",
       "          ... \n",
       "142211    8450\n",
       "142650    8450\n",
       "143089    8450\n",
       "143528    8450\n",
       "144406    8450\n",
       "Name: 8450, Length: 324, dtype: int64"
      ]
     },
     "metadata": {},
     "output_type": "display_data"
    },
    {
     "data": {
      "text/plain": [
       "415       8451\n",
       "854       8451\n",
       "1293      8451\n",
       "1732      8451\n",
       "2171      8451\n",
       "          ... \n",
       "142212    8451\n",
       "142651    8451\n",
       "143090    8451\n",
       "143529    8451\n",
       "144407    8451\n",
       "Name: 8451, Length: 324, dtype: int64"
      ]
     },
     "metadata": {},
     "output_type": "display_data"
    },
    {
     "data": {
      "text/plain": [
       "416       8452\n",
       "855       8452\n",
       "1294      8452\n",
       "1733      8452\n",
       "2172      8452\n",
       "          ... \n",
       "142213    8452\n",
       "142652    8452\n",
       "143091    8452\n",
       "143530    8452\n",
       "144408    8452\n",
       "Name: 8452, Length: 324, dtype: int64"
      ]
     },
     "metadata": {},
     "output_type": "display_data"
    },
    {
     "data": {
      "text/plain": [
       "417       8453\n",
       "856       8453\n",
       "1295      8453\n",
       "1734      8453\n",
       "2173      8453\n",
       "          ... \n",
       "142214    8453\n",
       "142653    8453\n",
       "143092    8453\n",
       "143531    8453\n",
       "144409    8453\n",
       "Name: 8453, Length: 324, dtype: int64"
      ]
     },
     "metadata": {},
     "output_type": "display_data"
    },
    {
     "data": {
      "text/plain": [
       "418       8454\n",
       "857       8454\n",
       "1296      8454\n",
       "1735      8454\n",
       "2174      8454\n",
       "          ... \n",
       "142215    8454\n",
       "142654    8454\n",
       "143093    8454\n",
       "143532    8454\n",
       "144410    8454\n",
       "Name: 8454, Length: 324, dtype: int64"
      ]
     },
     "metadata": {},
     "output_type": "display_data"
    },
    {
     "data": {
      "text/plain": [
       "419       8455\n",
       "858       8455\n",
       "1297      8455\n",
       "1736      8455\n",
       "2175      8455\n",
       "          ... \n",
       "142216    8455\n",
       "142655    8455\n",
       "143094    8455\n",
       "143533    8455\n",
       "144411    8455\n",
       "Name: 8455, Length: 324, dtype: int64"
      ]
     },
     "metadata": {},
     "output_type": "display_data"
    },
    {
     "data": {
      "text/plain": [
       "420       8456\n",
       "859       8456\n",
       "1298      8456\n",
       "1737      8456\n",
       "2176      8456\n",
       "          ... \n",
       "142217    8456\n",
       "142656    8456\n",
       "143095    8456\n",
       "143534    8456\n",
       "144412    8456\n",
       "Name: 8456, Length: 324, dtype: int64"
      ]
     },
     "metadata": {},
     "output_type": "display_data"
    },
    {
     "data": {
      "text/plain": [
       "421       8457\n",
       "860       8457\n",
       "1299      8457\n",
       "1738      8457\n",
       "2177      8457\n",
       "          ... \n",
       "142218    8457\n",
       "142657    8457\n",
       "143096    8457\n",
       "143535    8457\n",
       "144413    8457\n",
       "Name: 8457, Length: 324, dtype: int64"
      ]
     },
     "metadata": {},
     "output_type": "display_data"
    },
    {
     "data": {
      "text/plain": [
       "422       8458\n",
       "861       8458\n",
       "1300      8458\n",
       "1739      8458\n",
       "2178      8458\n",
       "          ... \n",
       "142219    8458\n",
       "142658    8458\n",
       "143097    8458\n",
       "143536    8458\n",
       "144414    8458\n",
       "Name: 8458, Length: 324, dtype: int64"
      ]
     },
     "metadata": {},
     "output_type": "display_data"
    },
    {
     "data": {
      "text/plain": [
       "423       8459\n",
       "862       8459\n",
       "1301      8459\n",
       "1740      8459\n",
       "2179      8459\n",
       "          ... \n",
       "142220    8459\n",
       "142659    8459\n",
       "143098    8459\n",
       "143537    8459\n",
       "144415    8459\n",
       "Name: 8459, Length: 324, dtype: int64"
      ]
     },
     "metadata": {},
     "output_type": "display_data"
    },
    {
     "data": {
      "text/plain": [
       "424       8460\n",
       "863       8460\n",
       "1302      8460\n",
       "1741      8460\n",
       "2180      8460\n",
       "          ... \n",
       "142221    8460\n",
       "142660    8460\n",
       "143099    8460\n",
       "143538    8460\n",
       "144416    8460\n",
       "Name: 8460, Length: 324, dtype: int64"
      ]
     },
     "metadata": {},
     "output_type": "display_data"
    },
    {
     "data": {
      "text/plain": [
       "425       8461\n",
       "864       8461\n",
       "1303      8461\n",
       "1742      8461\n",
       "2181      8461\n",
       "          ... \n",
       "142222    8461\n",
       "142661    8461\n",
       "143100    8461\n",
       "143539    8461\n",
       "144417    8461\n",
       "Name: 8461, Length: 324, dtype: int64"
      ]
     },
     "metadata": {},
     "output_type": "display_data"
    },
    {
     "data": {
      "text/plain": [
       "daynum\n",
       "8401    None\n",
       "8402    None\n",
       "8403    None\n",
       "8404    None\n",
       "8405    None\n",
       "        ... \n",
       "8457    None\n",
       "8458    None\n",
       "8459    None\n",
       "8460    None\n",
       "8461    None\n",
       "Name: daynum, Length: 61, dtype: object"
      ]
     },
     "execution_count": 28,
     "metadata": {},
     "output_type": "execute_result"
    }
   ],
   "source": [
    "wf2020.groupby('daynum')['daynum'].apply(display)"
   ]
  },
  {
   "cell_type": "code",
   "execution_count": null,
   "metadata": {},
   "outputs": [],
   "source": []
  }
 ],
 "metadata": {
  "kernelspec": {
   "display_name": "nn_class",
   "language": "python",
   "name": "nn_class"
  },
  "language_info": {
   "codemirror_mode": {
    "name": "ipython",
    "version": 3
   },
   "file_extension": ".py",
   "mimetype": "text/x-python",
   "name": "python",
   "nbconvert_exporter": "python",
   "pygments_lexer": "ipython3",
   "version": "3.7.12"
  }
 },
 "nbformat": 4,
 "nbformat_minor": 2
}
