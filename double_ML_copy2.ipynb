{
 "cells": [
  {
   "cell_type": "code",
   "execution_count": 1,
   "metadata": {},
   "outputs": [],
   "source": [
    "import numpy as np\n",
    "import pandas as pd\n",
    "import scipy as sp\n",
    "import matplotlib.pyplot as plt\n",
    "\n",
    "from sklearn import preprocessing\n",
    "from sklearn.linear_model import LinearRegression, LogisticRegression\n",
    "from sklearn.ensemble import RandomForestClassifier, RandomForestRegressor\n",
    "from sklearn.model_selection import KFold, StratifiedKFold, train_test_split\n",
    "from sklearn.metrics import mean_squared_error, log_loss\n",
    "import sklearn\n",
    "import os\n",
    "\n",
    "from xgboost import XGBClassifier, XGBRegressor\n",
    "\n",
    "from utils.double_ml import *\n",
    "from utils.analysis import *\n",
    "\n",
    "pd.options.mode.chained_assignment = None  # default='warn'"
   ]
  },
  {
   "cell_type": "code",
   "execution_count": 2,
   "metadata": {},
   "outputs": [],
   "source": [
    "RANDOM_SEED = 42"
   ]
  },
  {
   "cell_type": "markdown",
   "metadata": {},
   "source": [
    "### Import data"
   ]
  },
  {
   "cell_type": "code",
   "execution_count": 3,
   "metadata": {},
   "outputs": [],
   "source": [
    "wf2020 = make_wf2020(city_var=True)\n",
    "\n",
    "fixed = ['treat']\n",
    "city_fixed = []\n",
    "time_fixed = []\n",
    "for col in wf2020.columns:\n",
    "    if 'cities' in col:\n",
    "        city_fixed.append(col)\n",
    "    if 'days' in col:\n",
    "        time_fixed.append(col)\n",
    "fixed = fixed + city_fixed + time_fixed\n",
    "        \n",
    "weather = ['prec', 'snow', 'temp', 'temp2']\n",
    "city_economic = ['pop_city', 'gdp_city', 'firm_city']\n",
    "city_environmental = ['gonglu', 'emit_ww', 'emit_so1', 'emi_dust1']\n",
    "out = [\"aqi\", \"l_aqi\", \"pm\", \"l_pm\"]\n",
    "\n",
    "day, count, num_cities = get_day_count(wf2020)\n",
    "treat_day = day[count == max(count)][0]"
   ]
  },
  {
   "cell_type": "markdown",
   "metadata": {},
   "source": [
    "### Single time period"
   ]
  },
  {
   "cell_type": "code",
   "execution_count": 4,
   "metadata": {},
   "outputs": [
    {
     "name": "stdout",
     "output_type": "stream",
     "text": [
      "The estimate is -9.551428876892755 pm 15.032528485892538\n"
     ]
    }
   ],
   "source": [
    "tau_hat, std_hat = single_period_estimate(wf2020, treat_day=treat_day, outcome_var='aqi', \n",
    "                                          confounder_list=weather + city_economic + city_environmental,\n",
    "                                          Q_model_class=LinearRegression, Q_model_params={},\n",
    "                                          g_model_class=LogisticRegression, g_model_params={'max_iter':1000})\n",
    "\n",
    "print(f\"The estimate is {tau_hat} pm {1.96*std_hat}\")"
   ]
  },
  {
   "cell_type": "code",
   "execution_count": 5,
   "metadata": {},
   "outputs": [],
   "source": [
    "Q_models = [LinearRegression, RandomForestRegressor, XGBRegressor]\n",
    "Q_params = [{}, \n",
    "            {'random_state': RANDOM_SEED,\n",
    "                            'n_estimators': 100,\n",
    "                            'max_depth': 10},\n",
    "            {'n_jobs': 1,\n",
    "             'objective': 'reg:squarederror'},\n",
    "           ]\n",
    "g_models = [LogisticRegression, RandomForestClassifier, XGBClassifier]\n",
    "g_params = [{'max_iter':1000}, \n",
    "           {'random_state': RANDOM_SEED,\n",
    "                            'n_estimators': 100,\n",
    "                            'max_depth': 10},\n",
    "           {'use_label_encoder': False, \n",
    "            'n_jobs': 1, \n",
    "            'objective': 'binary:logistic', \n",
    "            'eval_metric': 'logloss'}]"
   ]
  },
  {
   "cell_type": "code",
   "execution_count": 6,
   "metadata": {},
   "outputs": [
    {
     "data": {
      "text/plain": [
       "8436"
      ]
     },
     "execution_count": 6,
     "metadata": {},
     "output_type": "execute_result"
    }
   ],
   "source": [
    "treat_day"
   ]
  },
  {
   "cell_type": "code",
   "execution_count": 7,
   "metadata": {},
   "outputs": [
    {
     "name": "stdout",
     "output_type": "stream",
     "text": [
      "=======  aqi =======\n",
      "Day: 8436 \n",
      " Q: Lin. Reg \n",
      " g:Log. Reg\n",
      "The estimate is -9.551428876892755 pm 15.032528485892538\n",
      "=======  aqi =======\n",
      "Day: 8436 \n",
      " Q: RF (depth 10) \n",
      " g:RF(depth 10)\n",
      "The estimate is 0.6659278709882487 pm 10.229994668025448\n",
      "=======  aqi =======\n",
      "Day: 8436 \n",
      " Q: XGB \n",
      " g:XGB\n",
      "The estimate is -3.9413818567367227 pm 34.2995351776955\n",
      "=======  l_aqi =======\n",
      "Day: 8436 \n",
      " Q: Lin. Reg \n",
      " g:Log. Reg\n",
      "The estimate is -0.09543847633702815 pm 0.14881548370126665\n",
      "=======  l_aqi =======\n",
      "Day: 8436 \n",
      " Q: RF (depth 10) \n",
      " g:RF(depth 10)\n",
      "The estimate is 0.020664216765638545 pm 0.07984004457299317\n",
      "=======  l_aqi =======\n",
      "Day: 8436 \n",
      " Q: XGB \n",
      " g:XGB\n",
      "The estimate is -0.0017200317839799043 pm 0.33411013446082827\n",
      "=======  pm =======\n",
      "Day: 8436 \n",
      " Q: Lin. Reg \n",
      " g:Log. Reg\n",
      "The estimate is -7.351327742277995 pm 12.235188471643678\n",
      "=======  pm =======\n",
      "Day: 8436 \n",
      " Q: RF (depth 10) \n",
      " g:RF(depth 10)\n",
      "The estimate is 0.7626146302975149 pm 8.831497300865946\n",
      "=======  pm =======\n",
      "Day: 8436 \n",
      " Q: XGB \n",
      " g:XGB\n",
      "The estimate is -10.860707863219202 pm 38.14069448936063\n",
      "=======  l_pm =======\n",
      "Day: 8436 \n",
      " Q: Lin. Reg \n",
      " g:Log. Reg\n",
      "The estimate is -0.11246352126584046 pm 0.16615777393608616\n",
      "=======  l_pm =======\n",
      "Day: 8436 \n",
      " Q: RF (depth 10) \n",
      " g:RF(depth 10)\n",
      "The estimate is -0.002123625279218089 pm 0.08796250239784668\n",
      "=======  l_pm =======\n",
      "Day: 8436 \n",
      " Q: XGB \n",
      " g:XGB\n",
      "The estimate is 0.006137749710533748 pm 0.3496216189287502\n"
     ]
    }
   ],
   "source": [
    "tau_list_single = []\n",
    "std_list_single = []\n",
    "Q_model_list_single = []\n",
    "g_model_list_single = []\n",
    "out_var_list_single = []\n",
    "\n",
    "for out_var in out:\n",
    "    for i in range(0, len(Q_models)):\n",
    "        print(\"======= \", out_var, \"=======\")\n",
    "        print(\"Day: %d \\n Q: %s \\n g:%s\" % (8436, get_model_string(Q_models[i], Q_params[i]), \n",
    "                                            get_model_string(g_models[i], g_params[i])))\n",
    "        tau_hat, std_hat = single_period_estimate(wf2020, treat_day=treat_day, outcome_var=out_var, \n",
    "                                              confounder_list=weather + city_economic + city_environmental,\n",
    "                                              Q_model_class=Q_models[i], Q_model_params=Q_params[i],\n",
    "                                              g_model_class=g_models[i], g_model_params=g_params[i])\n",
    "        tau_list_single.append(tau_hat)\n",
    "        std_list_single.append(std_hat)\n",
    "        Q_model_list_single.append(get_model_string(Q_models[i], Q_params[i]))\n",
    "        g_model_list_single.append(get_model_string(g_models[i], g_params[i]))\n",
    "        out_var_list_single.append(get_var_string(out_var))\n",
    "        print(f\"The estimate is {tau_hat} pm {1.96*std_hat}\")\n",
    "    "
   ]
  },
  {
   "cell_type": "code",
   "execution_count": 8,
   "metadata": {},
   "outputs": [
    {
     "data": {
      "text/html": [
       "<div>\n",
       "<style scoped>\n",
       "    .dataframe tbody tr th:only-of-type {\n",
       "        vertical-align: middle;\n",
       "    }\n",
       "\n",
       "    .dataframe tbody tr th {\n",
       "        vertical-align: top;\n",
       "    }\n",
       "\n",
       "    .dataframe thead th {\n",
       "        text-align: right;\n",
       "    }\n",
       "</style>\n",
       "<table border=\"1\" class=\"dataframe\">\n",
       "  <thead>\n",
       "    <tr style=\"text-align: right;\">\n",
       "      <th></th>\n",
       "      <th>outcome</th>\n",
       "      <th>outcome model</th>\n",
       "      <th>treatment model</th>\n",
       "      <th>estimate</th>\n",
       "      <th>p/m</th>\n",
       "    </tr>\n",
       "  </thead>\n",
       "  <tbody>\n",
       "    <tr>\n",
       "      <th>0</th>\n",
       "      <td>AQI</td>\n",
       "      <td>Lin. Reg</td>\n",
       "      <td>Log. Reg</td>\n",
       "      <td>-9.55</td>\n",
       "      <td>15.03</td>\n",
       "    </tr>\n",
       "    <tr>\n",
       "      <th>1</th>\n",
       "      <td>AQI</td>\n",
       "      <td>RF (depth 10)</td>\n",
       "      <td>RF(depth 10)</td>\n",
       "      <td>0.67</td>\n",
       "      <td>10.23</td>\n",
       "    </tr>\n",
       "    <tr>\n",
       "      <th>2</th>\n",
       "      <td>AQI</td>\n",
       "      <td>XGB</td>\n",
       "      <td>XGB</td>\n",
       "      <td>-3.94</td>\n",
       "      <td>34.30</td>\n",
       "    </tr>\n",
       "    <tr>\n",
       "      <th>3</th>\n",
       "      <td>log AQI</td>\n",
       "      <td>Lin. Reg</td>\n",
       "      <td>Log. Reg</td>\n",
       "      <td>-0.10</td>\n",
       "      <td>0.15</td>\n",
       "    </tr>\n",
       "    <tr>\n",
       "      <th>4</th>\n",
       "      <td>log AQI</td>\n",
       "      <td>RF (depth 10)</td>\n",
       "      <td>RF(depth 10)</td>\n",
       "      <td>0.02</td>\n",
       "      <td>0.08</td>\n",
       "    </tr>\n",
       "    <tr>\n",
       "      <th>5</th>\n",
       "      <td>log AQI</td>\n",
       "      <td>XGB</td>\n",
       "      <td>XGB</td>\n",
       "      <td>-0.00</td>\n",
       "      <td>0.33</td>\n",
       "    </tr>\n",
       "    <tr>\n",
       "      <th>6</th>\n",
       "      <td>PM</td>\n",
       "      <td>Lin. Reg</td>\n",
       "      <td>Log. Reg</td>\n",
       "      <td>-7.35</td>\n",
       "      <td>12.24</td>\n",
       "    </tr>\n",
       "    <tr>\n",
       "      <th>7</th>\n",
       "      <td>PM</td>\n",
       "      <td>RF (depth 10)</td>\n",
       "      <td>RF(depth 10)</td>\n",
       "      <td>0.76</td>\n",
       "      <td>8.83</td>\n",
       "    </tr>\n",
       "    <tr>\n",
       "      <th>8</th>\n",
       "      <td>PM</td>\n",
       "      <td>XGB</td>\n",
       "      <td>XGB</td>\n",
       "      <td>-10.86</td>\n",
       "      <td>38.14</td>\n",
       "    </tr>\n",
       "    <tr>\n",
       "      <th>9</th>\n",
       "      <td>log PM</td>\n",
       "      <td>Lin. Reg</td>\n",
       "      <td>Log. Reg</td>\n",
       "      <td>-0.11</td>\n",
       "      <td>0.17</td>\n",
       "    </tr>\n",
       "    <tr>\n",
       "      <th>10</th>\n",
       "      <td>log PM</td>\n",
       "      <td>RF (depth 10)</td>\n",
       "      <td>RF(depth 10)</td>\n",
       "      <td>-0.00</td>\n",
       "      <td>0.09</td>\n",
       "    </tr>\n",
       "    <tr>\n",
       "      <th>11</th>\n",
       "      <td>log PM</td>\n",
       "      <td>XGB</td>\n",
       "      <td>XGB</td>\n",
       "      <td>0.01</td>\n",
       "      <td>0.35</td>\n",
       "    </tr>\n",
       "  </tbody>\n",
       "</table>\n",
       "</div>"
      ],
      "text/plain": [
       "    outcome  outcome model treatment model  estimate    p/m\n",
       "0       AQI       Lin. Reg        Log. Reg     -9.55  15.03\n",
       "1       AQI  RF (depth 10)    RF(depth 10)      0.67  10.23\n",
       "2       AQI            XGB             XGB     -3.94  34.30\n",
       "3   log AQI       Lin. Reg        Log. Reg     -0.10   0.15\n",
       "4   log AQI  RF (depth 10)    RF(depth 10)      0.02   0.08\n",
       "5   log AQI            XGB             XGB     -0.00   0.33\n",
       "6        PM       Lin. Reg        Log. Reg     -7.35  12.24\n",
       "7        PM  RF (depth 10)    RF(depth 10)      0.76   8.83\n",
       "8        PM            XGB             XGB    -10.86  38.14\n",
       "9    log PM       Lin. Reg        Log. Reg     -0.11   0.17\n",
       "10   log PM  RF (depth 10)    RF(depth 10)     -0.00   0.09\n",
       "11   log PM            XGB             XGB      0.01   0.35"
      ]
     },
     "execution_count": 8,
     "metadata": {},
     "output_type": "execute_result"
    }
   ],
   "source": [
    "df = pd.DataFrame({'outcome': out_var_list_single, 'outcome model': Q_model_list_single, 'treatment model': g_model_list_single,\n",
    "             'estimate': np.round(tau_list_single, 2), 'p/m': np.round([1.96*std for std in std_list_single], 2)})\n",
    "df"
   ]
  },
  {
   "cell_type": "markdown",
   "metadata": {},
   "source": [
    "### Multiple time periods"
   ]
  },
  {
   "cell_type": "code",
   "execution_count": null,
   "metadata": {},
   "outputs": [],
   "source": [
    "wf2020 = make_wf2020()\n",
    "tau_hat, std_hat = multi_period_estimate(wf2020, outcome_var='aqi', \n",
    "                                         confounder_list= ['daynum'] + weather + city_economic + city_environmental,\n",
    "                                         Q_model_class=RandomForestRegressor, Q_model_params={\n",
    "                                             'random_state': RANDOM_SEED,\n",
    "                                             'n_estimators': 100,\n",
    "                                             'max_depth': 10\n",
    "                                         },\n",
    "                                         g_model_class=RandomForestClassifier, g_model_params={\n",
    "                                             'random_state': RANDOM_SEED,\n",
    "                                             'n_estimators': 100,\n",
    "                                             'max_depth': 10\n",
    "                                         }\n",
    "                                         )\n",
    "print('%0.3f pm %0.3f' % (tau_hat, std_hat))"
   ]
  },
  {
   "cell_type": "code",
   "execution_count": null,
   "metadata": {},
   "outputs": [],
   "source": []
  }
 ],
 "metadata": {
  "kernelspec": {
   "display_name": "nn_class",
   "language": "python",
   "name": "nn_class"
  },
  "language_info": {
   "codemirror_mode": {
    "name": "ipython",
    "version": 3
   },
   "file_extension": ".py",
   "mimetype": "text/x-python",
   "name": "python",
   "nbconvert_exporter": "python",
   "pygments_lexer": "ipython3",
   "version": "3.7.12"
  }
 },
 "nbformat": 4,
 "nbformat_minor": 2
}
