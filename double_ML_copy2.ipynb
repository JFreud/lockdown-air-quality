{
 "cells": [
  {
   "cell_type": "code",
   "execution_count": 1,
   "metadata": {},
   "outputs": [],
   "source": [
    "import numpy as np\n",
    "import pandas as pd\n",
    "import scipy as sp\n",
    "import matplotlib.pyplot as plt\n",
    "\n",
    "from sklearn import preprocessing\n",
    "from sklearn.linear_model import LinearRegression, LogisticRegression\n",
    "from sklearn.ensemble import RandomForestClassifier, RandomForestRegressor\n",
    "from sklearn.model_selection import KFold, StratifiedKFold, train_test_split\n",
    "from sklearn.metrics import mean_squared_error, log_loss\n",
    "import sklearn\n",
    "import os\n",
    "\n",
    "from xgboost import XGBClassifier, XGBRegressor\n",
    "\n",
    "from utils.double_ml import *\n",
    "from utils.analysis import *\n",
    "\n",
    "pd.options.mode.chained_assignment = None  # default='warn'"
   ]
  },
  {
   "cell_type": "code",
   "execution_count": 2,
   "metadata": {},
   "outputs": [],
   "source": [
    "RANDOM_SEED = 42"
   ]
  },
  {
   "cell_type": "markdown",
   "metadata": {},
   "source": [
    "### Import data"
   ]
  },
  {
   "cell_type": "code",
   "execution_count": 3,
   "metadata": {},
   "outputs": [],
   "source": [
    "wf2020 = make_wf2020()\n",
    "\n",
    "fixed = ['treat']\n",
    "city_fixed = []\n",
    "time_fixed = []\n",
    "for col in wf2020.columns:\n",
    "    if 'cities' in col:\n",
    "        city_fixed.append(col)\n",
    "    if 'days' in col:\n",
    "        time_fixed.append(col)\n",
    "fixed = fixed + city_fixed + time_fixed\n",
    "        \n",
    "weather = ['prec', 'snow', 'temp', 'temp2']\n",
    "city_economic = ['pop_city', 'sec_city', 'gdp_city' , 'pgdp_city', 'firm_city']\n",
    "city_environmental = ['gonglu', 'emit_ww', 'emit_so1', 'emi_dust1']\n",
    "out = [\"aqi\", \"l_aqi\", \"pm\", \"l_pm\"]"
   ]
  },
  {
   "cell_type": "code",
   "execution_count": 4,
   "metadata": {},
   "outputs": [],
   "source": [
    "day, count, num_cities = get_day_count(wf2020)\n",
    "treat_day = day[count == max(count)][0]"
   ]
  },
  {
   "cell_type": "markdown",
   "metadata": {},
   "source": [
    "### Single time period"
   ]
  },
  {
   "cell_type": "code",
   "execution_count": 6,
   "metadata": {},
   "outputs": [
    {
     "name": "stdout",
     "output_type": "stream",
     "text": [
      "The estimate is -19.861195037038506 pm 11.896965012736917\n"
     ]
    }
   ],
   "source": [
    "tau_hat, std_hat = single_period_estimate(wf2020, treat_day=treat_day, outcome_var='aqi', \n",
    "                                          confounder_list=weather + city_fixed + time_fixed,\n",
    "                                          Q_model_class=LinearRegression, Q_model_params={},\n",
    "                                          g_model_class=LogisticRegression, g_model_params={'max_iter':1000})\n",
    "\n",
    "print(f\"The estimate is {tau_hat} pm {1.96*std_hat}\")"
   ]
  },
  {
   "cell_type": "code",
   "execution_count": 7,
   "metadata": {},
   "outputs": [],
   "source": [
    "Q_models = [LinearRegression, RandomForestRegressor, XGBRegressor]\n",
    "Q_params = [{}, \n",
    "            {'random_state': RANDOM_SEED,\n",
    "                            'n_estimators': 100,\n",
    "                            'max_depth': 10},\n",
    "            {'n_jobs': 1,\n",
    "             'objective': 'reg:squarederror'},\n",
    "           ]\n",
    "g_models = [LogisticRegression, RandomForestClassifier, XGBClassifier]\n",
    "g_params = [{'max_iter':1000}, \n",
    "           {'random_state': RANDOM_SEED,\n",
    "                            'n_estimators': 100,\n",
    "                            'max_depth': 10},\n",
    "           {'use_label_encoder': False, \n",
    "            'n_jobs': 1, \n",
    "            'objective': 'binary:logistic', \n",
    "            'eval_metric': 'logloss'}]"
   ]
  },
  {
   "cell_type": "code",
   "execution_count": 10,
   "metadata": {},
   "outputs": [
    {
     "name": "stdout",
     "output_type": "stream",
     "text": [
      "=======  aqi =======\n",
      "Day: 8436 \n",
      " Q: Linear Regression \n",
      " g:Logistic Regression\n",
      "The estimate is -19.861666562977337 pm 11.897241514686366\n",
      "=======  aqi =======\n",
      "Day: 8436 \n",
      " Q: Random Forest Regressor (depth 10) \n",
      " g:Random Forest Classifier (depth 10)\n",
      "The estimate is -5.865090357355205 pm 7.712447687592622\n",
      "=======  aqi =======\n",
      "Day: 8436 \n",
      " Q: XGBoost Regressor \n",
      " g:XGBoost Classifier\n",
      "The estimate is -247.48243236318115 pm 479.468065777151\n",
      "=======  l_aqi =======\n",
      "Day: 8436 \n",
      " Q: Linear Regression \n",
      " g:Logistic Regression\n",
      "The estimate is -0.2980896249543357 pm 0.3213418520324933\n",
      "=======  l_aqi =======\n",
      "Day: 8436 \n",
      " Q: Random Forest Regressor (depth 10) \n",
      " g:Random Forest Classifier (depth 10)\n",
      "The estimate is -0.023244578186134804 pm 0.062019886152666084\n",
      "=======  l_aqi =======\n",
      "Day: 8436 \n",
      " Q: XGBoost Regressor \n",
      " g:XGBoost Classifier\n",
      "The estimate is -2.3164349051622914 pm 4.489472695727653\n",
      "=======  pm =======\n",
      "Day: 8436 \n",
      " Q: Linear Regression \n",
      " g:Logistic Regression\n",
      "The estimate is -19.05789212087119 pm 17.856075594549864\n",
      "=======  pm =======\n",
      "Day: 8436 \n",
      " Q: Random Forest Regressor (depth 10) \n",
      " g:Random Forest Classifier (depth 10)\n",
      "The estimate is -2.6808465270370956 pm 5.595988651587099\n",
      "=======  pm =======\n",
      "Day: 8436 \n",
      " Q: XGBoost Regressor \n",
      " g:XGBoost Classifier\n",
      "The estimate is -217.78762079676397 pm 422.1447017901736\n",
      "=======  l_pm =======\n",
      "Day: 8436 \n",
      " Q: Linear Regression \n",
      " g:Logistic Regression\n",
      "The estimate is -0.2996138459406811 pm 0.34224517031375407\n",
      "=======  l_pm =======\n",
      "Day: 8436 \n",
      " Q: Random Forest Regressor (depth 10) \n",
      " g:Random Forest Classifier (depth 10)\n",
      "The estimate is -0.013462462094676012 pm 0.06861119117614668\n",
      "=======  l_pm =======\n",
      "Day: 8436 \n",
      " Q: XGBoost Regressor \n",
      " g:XGBoost Classifier\n",
      "The estimate is -2.397178179431897 pm 4.729868276699824\n"
     ]
    }
   ],
   "source": [
    "tau_list_single = []\n",
    "std_list_single = []\n",
    "Q_model_list_single = []\n",
    "g_model_list_single = []\n",
    "out_var_list_single = []\n",
    "\n",
    "for out_var in out:\n",
    "    for i in range(0, len(Q_models)):\n",
    "        print(\"======= \", out_var, \"=======\")\n",
    "        print(\"Day: %d \\n Q: %s \\n g:%s\" % (8436, get_model_string(Q_models[i], Q_params[i]), \n",
    "                                            get_model_string(g_models[i], g_params[i])))\n",
    "        tau_hat, std_hat = single_period_estimate(wf2020, treat_day=treat_day, outcome_var=out_var, \n",
    "                                              confounder_list=weather + city_fixed + time_fixed,\n",
    "                                              Q_model_class=Q_models[i], Q_model_params=Q_params[i],\n",
    "                                              g_model_class=g_models[i], g_model_params=g_params[i])\n",
    "        tau_list_single.append(tau_hat)\n",
    "        std_list_single.append(std_hat)\n",
    "        Q_model_list_single.append(get_model_string(Q_models[i], Q_params[i]))\n",
    "        g_model_list_single.append(get_model_string(g_models[i], g_params[i]))\n",
    "        out_var_list_single.append(get_var_string(out_var))\n",
    "        print(f\"The estimate is {tau_hat} pm {1.96*std_hat}\")\n",
    "    "
   ]
  },
  {
   "cell_type": "code",
   "execution_count": 11,
   "metadata": {},
   "outputs": [
    {
     "ename": "TypeError",
     "evalue": "can't multiply sequence by non-int of type 'float'",
     "output_type": "error",
     "traceback": [
      "\u001b[0;31m---------------------------------------------------------------------------\u001b[0m",
      "\u001b[0;31mTypeError\u001b[0m                                 Traceback (most recent call last)",
      "\u001b[0;32m/var/folders/nc/fqqwvdqs759d6pq_6y78575c0000gp/T/ipykernel_76435/1903576432.py\u001b[0m in \u001b[0;36m<module>\u001b[0;34m\u001b[0m\n\u001b[1;32m      1\u001b[0m df = pd.DataFrame({'outcome': out_var_list_single, 'outcome model': Q_model_list_single, 'treatment model': g_model_list_single,\n\u001b[0;32m----> 2\u001b[0;31m              'estimate': np.round(tau_list_single, 2), 'p/m': np.round(1.96*std_list_single, 2)})\n\u001b[0m\u001b[1;32m      3\u001b[0m \u001b[0mdf\u001b[0m\u001b[0;34m\u001b[0m\u001b[0;34m\u001b[0m\u001b[0m\n",
      "\u001b[0;31mTypeError\u001b[0m: can't multiply sequence by non-int of type 'float'"
     ]
    }
   ],
   "source": [
    "df = pd.DataFrame({'outcome': out_var_list_single, 'outcome model': Q_model_list_single, 'treatment model': g_model_list_single,\n",
    "             'estimate': np.round(tau_list_single, 2), 'p/m': np.round(1.96*std_list_single, 2)})\n",
    "df"
   ]
  },
  {
   "cell_type": "code",
   "execution_count": 20,
   "metadata": {},
   "outputs": [
    {
     "ename": "TypeError",
     "evalue": "can't multiply sequence by non-int of type 'float'",
     "output_type": "error",
     "traceback": [
      "\u001b[0;31m---------------------------------------------------------------------------\u001b[0m",
      "\u001b[0;31mTypeError\u001b[0m                                 Traceback (most recent call last)",
      "\u001b[0;32m/var/folders/nc/fqqwvdqs759d6pq_6y78575c0000gp/T/ipykernel_76435/2850613229.py\u001b[0m in \u001b[0;36m<module>\u001b[0;34m\u001b[0m\n\u001b[0;32m----> 1\u001b[0;31m \u001b[0mstd_list_single\u001b[0m\u001b[0;34m*\u001b[0m\u001b[0;36m1.96\u001b[0m\u001b[0;34m\u001b[0m\u001b[0;34m\u001b[0m\u001b[0m\n\u001b[0m",
      "\u001b[0;31mTypeError\u001b[0m: can't multiply sequence by non-int of type 'float'"
     ]
    }
   ],
   "source": [
    "std_list_single*1.96"
   ]
  },
  {
   "cell_type": "markdown",
   "metadata": {},
   "source": [
    "### Multiple time periods"
   ]
  },
  {
   "cell_type": "code",
   "execution_count": null,
   "metadata": {},
   "outputs": [],
   "source": [
    "wf2020 = make_wf2020()\n",
    "tau_hat, std_hat = multi_period_estimate(wf2020, outcome_var='aqi', \n",
    "                                         confounder_list= ['daynum'] + weather + city_fixed + time_fixed,\n",
    "                                         Q_model_class=RandomForestRegressor, Q_model_params={\n",
    "                                             'random_state': RANDOM_SEED,\n",
    "                                             'n_estimators': 100,\n",
    "                                             'max_depth': 10\n",
    "                                         },\n",
    "                                         g_model_class=RandomForestClassifier, g_model_params={\n",
    "                                             'random_state': RANDOM_SEED,\n",
    "                                             'n_estimators': 100,\n",
    "                                             'max_depth': 3\n",
    "                                         }\n",
    "                                         )\n",
    "print('%0.3f pm %0.3f' % (tau_hat, std_hat))"
   ]
  },
  {
   "cell_type": "code",
   "execution_count": null,
   "metadata": {},
   "outputs": [],
   "source": []
  }
 ],
 "metadata": {
  "kernelspec": {
   "display_name": "nn_class",
   "language": "python",
   "name": "nn_class"
  },
  "language_info": {
   "codemirror_mode": {
    "name": "ipython",
    "version": 3
   },
   "file_extension": ".py",
   "mimetype": "text/x-python",
   "name": "python",
   "nbconvert_exporter": "python",
   "pygments_lexer": "ipython3",
   "version": "3.7.12"
  }
 },
 "nbformat": 4,
 "nbformat_minor": 2
}
