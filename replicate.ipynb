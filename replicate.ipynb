{
 "cells": [
  {
   "cell_type": "code",
   "execution_count": 97,
   "metadata": {},
   "outputs": [],
   "source": [
    "import numpy as np\n",
    "import pandas as pd\n",
    "from sklearn.linear_model import LinearRegression\n",
    "\n",
    "import statsmodels.api as sm\n",
    "import statsmodels.formula.api as smf\n",
    "# from linearmodels.panel import PanelOLS"
   ]
  },
  {
   "cell_type": "code",
   "execution_count": 25,
   "metadata": {},
   "outputs": [],
   "source": [
    "wf = pd.read_csv(\"data/wf.csv\")\n",
    "city_yb = pd.read_csv(\"data/city_yb.csv\")"
   ]
  },
  {
   "cell_type": "markdown",
   "metadata": {},
   "source": [
    "## 2020 treatment vs control"
   ]
  },
  {
   "cell_type": "code",
   "execution_count": 88,
   "metadata": {},
   "outputs": [],
   "source": [
    "wf = pd.read_csv(\"data/wf.csv\")\n",
    "city_yb = pd.read_csv(\"data/city_yb.csv\")\n",
    "\n",
    "wf[\"temp2\"] = wf[\"temp\"] ** 2\n",
    "wf[\"l_aqi\"] = np.log(1 + wf[\"aqi\"])\n",
    "wf[\"l_pm\"] = np.log(1 + wf[\"pm\"])\n",
    "wf2020 = wf[(wf[\"daynum\"] >= 8401) & (wf[\"daynum\"]<= 8461)].dropna(\n",
    "    subset = ['aqi', 'pm']\n",
    ")\n",
    "wf2020['cities'] = wf2020['city_code'].astype('category')\n",
    "wf2020['days'] = wf2020['daynum'].astype('category')\n",
    "wf2020 = pd.get_dummies(wf2020, drop_first=True)"
   ]
  },
  {
   "cell_type": "code",
   "execution_count": 95,
   "metadata": {},
   "outputs": [],
   "source": [
    "fixed = ['treat']\n",
    "for col in wf2020.columns:\n",
    "    if 'cities' in col or 'days' in col:\n",
    "        fixed.append(col)\n",
    "        \n",
    "weather = ['prec', 'snow', 'temp', 'temp2']"
   ]
  },
  {
   "cell_type": "code",
   "execution_count": 96,
   "metadata": {},
   "outputs": [
    {
     "name": "stdout",
     "output_type": "stream",
     "text": [
      "-19.84407593228247\n",
      "-0.1741297114238893\n",
      "-14.069969671861866\n",
      "-0.16783963935487584\n"
     ]
    }
   ],
   "source": [
    "out = [\"aqi\", \"l_aqi\", \"pm\", \"l_pm\"]\n",
    "\n",
    "for Yname in out:\n",
    "    Y = wf2020[Yname]\n",
    "    X = wf2020[fixed + weather]\n",
    "    lr = ()\n",
    "    lr.fit(X, Y)\n",
    "    print(lr.coef_[0])"
   ]
  }
 ],
 "metadata": {
  "interpreter": {
   "hash": "6a525e117b74db75a0938b9a7ba442b7bcb3e21c3f177debe4c065c7a7c1b83e"
  },
  "kernelspec": {
   "display_name": "Python 3",
   "language": "python",
   "name": "python3"
  },
  "language_info": {
   "codemirror_mode": {
    "name": "ipython",
    "version": 3
   },
   "file_extension": ".py",
   "mimetype": "text/x-python",
   "name": "python",
   "nbconvert_exporter": "python",
   "pygments_lexer": "ipython3",
   "version": "3.8.5"
  }
 },
 "nbformat": 4,
 "nbformat_minor": 2
}
