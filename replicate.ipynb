{
 "cells": [
  {
   "cell_type": "code",
   "execution_count": 1,
   "source": [
    "import numpy as np\n",
    "import pandas as pd\n",
    "from sklearn.linear_model import LinearRegression\n",
    "\n",
    "import statsmodels.api as sm\n",
    "import statsmodels.formula.api as smf\n",
    "# from linearmodels.panel import PanelOLS"
   ],
   "outputs": [],
   "metadata": {}
  },
  {
   "cell_type": "code",
   "execution_count": 40,
   "source": [
    "wf = pd.read_csv(\"data/wf.csv\")\n",
    "city_yb = pd.read_csv(\"data/city_yb.csv\")"
   ],
   "outputs": [],
   "metadata": {}
  },
  {
   "cell_type": "markdown",
   "source": [
    "## 2020 treatment vs control"
   ],
   "metadata": {}
  },
  {
   "cell_type": "code",
   "execution_count": 52,
   "source": [
    "wf = pd.read_csv(\"data/wf.csv\")\n",
    "city_yb = pd.read_csv(\"data/city_yb.csv\")\n",
    "\n",
    "wf[\"temp2\"] = wf[\"temp\"] ** 2\n",
    "wf[\"l_aqi\"] = np.log(1 + wf[\"aqi\"])\n",
    "wf[\"l_pm\"] = np.log(1 + wf[\"pm\"])\n",
    "wf2020 = wf[(wf[\"daynum\"] >= 8401) & (wf[\"daynum\"]<= 8461)].dropna(\n",
    "    subset = ['aqi', 'pm']\n",
    ")\n",
    "wf2020['cities'] = wf2020['city_code'].astype('category')\n",
    "wf2020['days'] = wf2020['daynum'].astype('category')\n",
    "wf2020 = pd.get_dummies(wf2020, drop_first=True)"
   ],
   "outputs": [],
   "metadata": {}
  },
  {
   "cell_type": "code",
   "execution_count": 53,
   "source": [
    "fixed = ['treat']\n",
    "for col in wf2020.columns:\n",
    "    if 'cities' in col or 'days' in col:\n",
    "        fixed.append(col)\n",
    "        \n",
    "weather = ['prec', 'snow', 'temp', 'temp2']"
   ],
   "outputs": [],
   "metadata": {}
  },
  {
   "cell_type": "code",
   "execution_count": 55,
   "source": [
    "out = [\"aqi\", \"l_aqi\", \"pm\", \"l_pm\"]\n",
    "\n",
    "for Yname in out:\n",
    "    Y = wf2020[Yname]\n",
    "    X = wf2020[fixed + weather]\n",
    "    lr = LinearRegression()\n",
    "    lr.fit(X, Y)\n",
    "    print(lr.coef_[0])"
   ],
   "outputs": [
    {
     "output_type": "stream",
     "name": "stdout",
     "text": [
      "-19.844075932282255\n",
      "-0.1741297114238865\n",
      "-14.069969671861704\n",
      "-0.1678396393548723\n"
     ]
    }
   ],
   "metadata": {}
  },
  {
   "cell_type": "markdown",
   "source": [
    "## Spring festival 2020 vs 2019"
   ],
   "metadata": {}
  },
  {
   "cell_type": "code",
   "execution_count": 75,
   "source": [
    "wf_spring = wf[\n",
    "    ((wf[\"daynum\"] >= 8401) & (wf[\"daynum\"]<= 8461)) |\n",
    "    ((wf[\"daynum\"] >= 8047) & (wf[\"daynum\"]<= 8107))].dropna(\n",
    "    subset = ['aqi', 'pm']\n",
    ")\n",
    "wf_spring[\"daynum_i\"] = wf_spring.apply(lambda x : x[\"daynum\"] + 354 if x[\"year\"] == 2019 else x[\"daynum\"], axis=1)\n",
    "wf_spring[\"treat_SF1\"] = ((wf_spring[\"daynum_i\"] >= 8425) & (wf_spring[\"year\"] == 2020)).astype(\"int\")\n",
    "\n",
    "wf_spring['cities'] = wf_spring['city_code'].astype('category')\n",
    "wf_spring['days_i'] = wf_spring['daynum_i'].astype('category')\n",
    "wf_spring['year_ind'] = wf_spring['year'].astype('category')\n",
    "wf_spring['t_group'] = pd.notna(wf_spring[\"t_asign\"])\n",
    "wf_spring = pd.get_dummies(wf_spring, drop_first=True)\n",
    "\n",
    "\n",
    "fixed = ['treat_SF1']\n",
    "for col in wf_spring.columns:\n",
    "    if 'cities' in col or 'days_i' in col or 'year_ind' in col:\n",
    "        fixed.append(col)"
   ],
   "outputs": [],
   "metadata": {}
  },
  {
   "cell_type": "code",
   "execution_count": 76,
   "source": [
    "for Yname in out:\n",
    "    Y = wf_spring[wf_spring[\"t_group\"] == 0][Yname]\n",
    "    X = wf_spring[wf_spring[\"t_group\"] == 0][fixed + weather]\n",
    "    lr = LinearRegression()\n",
    "    lr.fit(X, Y)\n",
    "    print(lr.coef_[0])"
   ],
   "outputs": [
    {
     "output_type": "stream",
     "name": "stdout",
     "text": [
      "-6.369863682777258\n",
      "-0.0484466255348826\n",
      "-7.090465831937396\n",
      "-0.07072380133669583\n"
     ]
    }
   ],
   "metadata": {}
  }
 ],
 "metadata": {
  "interpreter": {
   "hash": "6a525e117b74db75a0938b9a7ba442b7bcb3e21c3f177debe4c065c7a7c1b83e"
  },
  "kernelspec": {
   "display_name": "Python 3",
   "language": "python",
   "name": "python3"
  },
  "language_info": {
   "codemirror_mode": {
    "name": "ipython",
    "version": 3
   },
   "file_extension": ".py",
   "mimetype": "text/x-python",
   "name": "python",
   "nbconvert_exporter": "python",
   "pygments_lexer": "ipython3",
   "version": "3.8.5"
  }
 },
 "nbformat": 4,
 "nbformat_minor": 2
}