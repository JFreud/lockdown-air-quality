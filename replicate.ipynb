{
 "cells": [
  {
   "cell_type": "code",
   "execution_count": 1,
   "metadata": {},
   "outputs": [],
   "source": [
    "import numpy as np\n",
    "import pandas as pd\n",
    "from sklearn.linear_model import LinearRegression\n",
    "\n",
    "import statsmodels.api as sm\n",
    "import statsmodels.formula.api as smf\n",
    "# from linearmodels.panel import PanelOLS"
   ]
  },
  {
   "cell_type": "code",
   "execution_count": 2,
   "metadata": {},
   "outputs": [],
   "source": [
    "wf = pd.read_csv(\"data/wf.csv\")\n",
    "city_yb = pd.read_csv(\"data/city_yb.csv\")"
   ]
  },
  {
   "cell_type": "markdown",
   "metadata": {},
   "source": [
    "## 2020 treatment vs control"
   ]
  },
  {
   "cell_type": "code",
   "execution_count": 64,
   "metadata": {},
   "outputs": [],
   "source": [
    "wf = pd.read_csv(\"data/wf.csv\")\n",
    "city_yb = pd.read_csv(\"data/city_yb.csv\")\n",
    "\n",
    "wf[\"temp2\"] = wf[\"temp\"] ** 2\n",
    "wf[\"l_aqi\"] = np.log(1 + wf[\"aqi\"])\n",
    "wf[\"l_pm\"] = np.log(1 + wf[\"pm\"])\n",
    "wf2020 = wf[(wf[\"daynum\"] >= 8401) & (wf[\"daynum\"]<= 8461)].dropna(\n",
    "    subset = ['aqi', 'pm']\n",
    ")\n",
    "wf2020['cities'] = wf2020['city_code'].astype('category')\n",
    "wf2020['days'] = wf2020['daynum'].astype('category')\n",
    "wf2020[\"t_sum\"] = wf2020.groupby(\"city_code\")[\"treat\"].transform('sum')\n",
    "wf2020 = pd.get_dummies(wf2020, drop_first=True)"
   ]
  },
  {
   "cell_type": "code",
   "execution_count": 65,
   "metadata": {},
   "outputs": [],
   "source": [
    "fixed = ['treat']\n",
    "for col in wf2020.columns:\n",
    "    if 'cities' in col or 'days' in col:\n",
    "        fixed.append(col)\n",
    "        \n",
    "weather = ['prec', 'snow', 'temp', 'temp2']"
   ]
  },
  {
   "cell_type": "code",
   "execution_count": 66,
   "metadata": {},
   "outputs": [
    {
     "name": "stdout",
     "output_type": "stream",
     "text": [
      "-19.844075932282255\n",
      "-0.1741297114238865\n",
      "-14.069969671861704\n",
      "-0.1678396393548723\n"
     ]
    }
   ],
   "source": [
    "out = [\"aqi\", \"l_aqi\", \"pm\", \"l_pm\"]\n",
    "\n",
    "\n",
    "for Yname in out:\n",
    "    Y = wf2020[Yname]\n",
    "    X = wf2020[fixed + weather]\n",
    "    lr = LinearRegression()\n",
    "    lr.fit(X, Y)\n",
    "    print(lr.coef_[0])"
   ]
  },
  {
   "cell_type": "markdown",
   "metadata": {},
   "source": [
    "Parallel trends"
   ]
  },
  {
   "cell_type": "code",
   "execution_count": 67,
   "metadata": {},
   "outputs": [
    {
     "name": "stderr",
     "output_type": "stream",
     "text": [
      "/Users/jtf/anaconda3/envs/mamba-base-env/envs/nn_class/lib/python3.7/site-packages/ipykernel_launcher.py:14: SettingWithCopyWarning: \n",
      "A value is trying to be set on a copy of a slice from a DataFrame\n",
      "\n",
      "See the caveats in the documentation: https://pandas.pydata.org/pandas-docs/stable/user_guide/indexing.html#returning-a-view-versus-a-copy\n",
      "  \n"
     ]
    }
   ],
   "source": [
    "# get first (from dML nb)\n",
    "treated = wf2020[wf2020['treat'] == 1]\n",
    "treated = treated[['daynum', 'city_code']].groupby('city_code')\n",
    "first = treated.apply(lambda x: x.sort_values(by = 'daynum', ascending=True).head(1))\n",
    "day, count = np.unique(first.daynum, return_counts = True)\n",
    "treat_day = day[count == max(count)][0]\n",
    "first = {city:day for day, city in first.values}\n",
    "wf2020 = wf2020.assign(first = [first.get(city, 0) for city in wf2020['city_code']])\n",
    "\n",
    "# create week coefficient \n",
    "wf2020[\"week_coef\"] = np.floor((wf2020[\"daynum\"] - wf2020[\"first\"])/7).astype(int)\n",
    "# set -1 lead and untreated to NaN so they don't get week0 dummy\n",
    "wf2020[\"week_coef\"] = np.where((wf2020[\"week_coef\"] == -1), np.NaN, wf2020[\"week_coef\"])\n",
    "wf2020[\"week_coef\"][wf2020[\"first\"] == 0] = np.NaN\n",
    "wf2020[\"week_coef\"] = wf2020[\"week_coef\"].astype('category')\n",
    "wf2020 = pd.get_dummies(wf2020)\n",
    "\n",
    "week_coef = []\n",
    "for col in wf2020.columns:\n",
    "    if 'week_coef' in col:\n",
    "        week_coef.append(col)"
   ]
  },
  {
   "cell_type": "code",
   "execution_count": 73,
   "metadata": {},
   "outputs": [
    {
     "name": "stdout",
     "output_type": "stream",
     "text": [
      "aqi\n",
      "('week_coef_-8.0', -18.00627161327473, 31.936753228023296)\n",
      "('week_coef_-7.0', -8.324787978437236, 29.854750815608643)\n",
      "('week_coef_-6.0', -3.7125282430360578, 12.536586789189553)\n",
      "('week_coef_-5.0', -2.0338783923834565, 5.125846933467938)\n",
      "('week_coef_-4.0', -8.130041800167035, 4.597603077051213)\n",
      "('week_coef_-3.0', -3.0329251380830984, 4.284752755667526)\n",
      "('week_coef_-2.0', 2.5201194790414254, 4.230233635802477)\n",
      "('week_coef_0.0', 10.87644562178328, 3.313219405271911)\n",
      "('week_coef_1.0', 6.424389979049763, 3.306806586103549)\n",
      "('week_coef_2.0', -6.614663658277415, 3.259649912037807)\n",
      "('week_coef_3.0', -8.566434277435519, 3.4133199746308076)\n",
      "('week_coef_4.0', -9.553382655955549, 4.859642280452933)\n",
      "('week_coef_5.0', -15.058933532716313, 9.274440038108484)\n",
      "l_aqi\n",
      "('week_coef_-8.0', -0.15519707161095148, 0.3344370672631494)\n",
      "('week_coef_-7.0', -0.09956446639052036, 0.3126346386984391)\n",
      "('week_coef_-6.0', 0.005779541005906941, 0.13128132623035588)\n",
      "('week_coef_-5.0', -0.023801479685331486, 0.05367712877477523)\n",
      "('week_coef_-4.0', -0.07013818235072887, 0.04814543540324085)\n",
      "('week_coef_-3.0', -0.036419415380528064, 0.04486931202185447)\n",
      "('week_coef_-2.0', -0.0037163538447423754, 0.044298395672679805)\n",
      "('week_coef_0.0', 0.12628009931478046, 0.03469555509250108)\n",
      "('week_coef_1.0', 0.08447567774480937, 0.03462840097635649)\n",
      "('week_coef_2.0', -0.06257891675664143, 0.03413458309625362)\n",
      "('week_coef_3.0', -0.0726117069886201, 0.03574379379756725)\n",
      "('week_coef_4.0', -0.06682278268548203, 0.05088947209563531)\n",
      "('week_coef_5.0', -0.22936480782011423, 0.09712059659625305)\n",
      "pm\n",
      "('week_coef_-8.0', -17.642898110645945, 24.70740090624223)\n",
      "('week_coef_-7.0', -11.907163092103183, 23.096690264367876)\n",
      "('week_coef_-6.0', -4.7635849073818, 9.698746569034936)\n",
      "('week_coef_-5.0', -3.9374732361359044, 3.965536329413013)\n",
      "('week_coef_-4.0', -10.197744107583487, 3.556868214543551)\n",
      "('week_coef_-3.0', -2.0043031344628286, 3.314836150141621)\n",
      "('week_coef_-2.0', 1.5030337933289144, 3.2726582323694635)\n",
      "('week_coef_0.0', 6.299834193504653, 2.563223617376502)\n",
      "('week_coef_1.0', 5.050622278304499, 2.55826243384602)\n",
      "('week_coef_2.0', -4.14589551204168, 2.5217803643247847)\n",
      "('week_coef_3.0', -6.779912270945729, 2.6406649552744077)\n",
      "('week_coef_4.0', -6.8006757276249985, 3.7595910024667045)\n",
      "('week_coef_5.0', -10.350965449194494, 7.175034561790792)\n",
      "l_pm\n",
      "('week_coef_-8.0', -0.21750834558574772, 0.38631152352142617)\n",
      "('week_coef_-7.0', -0.17267009317073817, 0.3611273252977493)\n",
      "('week_coef_-6.0', 0.0009293731394378613, 0.1516443424199059)\n",
      "('week_coef_-5.0', -0.05577112560320175, 0.062002975821227234)\n",
      "('week_coef_-4.0', -0.10120988385320091, 0.05561326276848906)\n",
      "('week_coef_-3.0', -0.028590878155090038, 0.05182898064610187)\n",
      "('week_coef_-2.0', -0.019465435979442086, 0.05116950959387124)\n",
      "('week_coef_0.0', 0.10886471636411472, 0.04007717462926854)\n",
      "('week_coef_1.0', 0.07977383383276757, 0.03999960425367934)\n",
      "('week_coef_2.0', -0.04870308162006977, 0.039429190396250806)\n",
      "('week_coef_3.0', -0.07796656461024, 0.041288005397765885)\n",
      "('week_coef_4.0', -0.05225600463309952, 0.05878292635845083)\n",
      "('week_coef_5.0', -0.231583174566717, 0.1121849499023592)\n"
     ]
    }
   ],
   "source": [
    "for Yname in out:\n",
    "    Y = wf2020[Yname]\n",
    "    X = wf2020[fixed + weather + week_coef]\n",
    "    fit = sm.OLS(Y, sm.add_constant(X)).fit()\n",
    "    print(Yname)\n",
    "    print(*list(zip([index for index in fit.params.index if 'week_coef' in index],\n",
    "                    fit.params[[index for index in fit.params.index if 'week_coef' in index]], \n",
    "                   2*fit.bse[[index for index in fit.params.index if 'week_coef' in index]])), sep=\"\\n\")"
   ]
  },
  {
   "cell_type": "code",
   "execution_count": 78,
   "metadata": {},
   "outputs": [
    {
     "data": {
      "text/plain": [
       "array([ -55,  -54,  -53,  -52,  -51,  -50,  -49,  -48,  -47,  -46,  -45,\n",
       "        -44,  -43,  -42,  -41,  -40,  -39,  -38,  -37,  -36,  -35,  -34,\n",
       "        -33,  -32,  -31,  -30,  -29,  -28,  -27,  -26,  -25,  -24,  -23,\n",
       "        -22,  -21,  -20,  -19,  -18,  -17,  -16,  -15,  -14,  -13,  -12,\n",
       "        -11,  -10,   -9,   -8,   -7,   -6,   -5,   -4,   -3,   -2,   -1,\n",
       "          0,    1,    2,    3,    4,    5,    6,    7,    8,    9,   10,\n",
       "         11,   12,   13,   14,   15,   16,   17,   18,   19,   20,   21,\n",
       "         22,   23,   24,   25,   26,   27,   28,   29,   30,   31,   32,\n",
       "         33,   34,   35,   36,   37,   38, 8401, 8402, 8403, 8404, 8405,\n",
       "       8406, 8407, 8408, 8409, 8410, 8411, 8412, 8413, 8414, 8415, 8416,\n",
       "       8417, 8418, 8419, 8420, 8421, 8422, 8423, 8424, 8425, 8426, 8427,\n",
       "       8428, 8429, 8430, 8431, 8432, 8433, 8434, 8435, 8436, 8437, 8438,\n",
       "       8439, 8440, 8441, 8442, 8443, 8444, 8445, 8446, 8447, 8448, 8449,\n",
       "       8450, 8451, 8452, 8453, 8454, 8455, 8456, 8457, 8458, 8459, 8460,\n",
       "       8461])"
      ]
     },
     "execution_count": 78,
     "metadata": {},
     "output_type": "execute_result"
    }
   ],
   "source": [
    "np.unique(np.floor((wf2020[\"daynum\"] - wf2020[\"first\"])/7).astype(int))\n",
    "np.unique(wf2020[\"daynum\"] - wf2020[\"first\"])"
   ]
  },
  {
   "cell_type": "code",
   "execution_count": null,
   "metadata": {},
   "outputs": [],
   "source": [
    "# check E[Y_{t+1} - Y_{t} | A=1, X] - E[Y_{t+1} - Y_{t} | A=0, X] = 0 \n",
    "\n"
   ]
  },
  {
   "cell_type": "markdown",
   "metadata": {},
   "source": [
    "## Spring festival 2020 vs 2019"
   ]
  },
  {
   "cell_type": "code",
   "execution_count": 75,
   "metadata": {},
   "outputs": [],
   "source": [
    "wf_spring = wf[\n",
    "    ((wf[\"daynum\"] >= 8401) & (wf[\"daynum\"]<= 8461)) |\n",
    "    ((wf[\"daynum\"] >= 8047) & (wf[\"daynum\"]<= 8107))].dropna(\n",
    "    subset = ['aqi', 'pm']\n",
    ")\n",
    "wf_spring[\"daynum_i\"] = wf_spring.apply(lambda x : x[\"daynum\"] + 354 if x[\"year\"] == 2019 else x[\"daynum\"], axis=1)\n",
    "wf_spring[\"treat_SF1\"] = ((wf_spring[\"daynum_i\"] >= 8425) & (wf_spring[\"year\"] == 2020)).astype(\"int\")\n",
    "\n",
    "wf_spring['cities'] = wf_spring['city_code'].astype('category')\n",
    "wf_spring['days_i'] = wf_spring['daynum_i'].astype('category')\n",
    "wf_spring['year_ind'] = wf_spring['year'].astype('category')\n",
    "wf_spring['t_group'] = pd.notna(wf_spring[\"t_asign\"])\n",
    "wf_spring = pd.get_dummies(wf_spring, drop_first=True)\n",
    "\n",
    "\n",
    "fixed = ['treat_SF1']\n",
    "for col in wf_spring.columns:\n",
    "    if 'cities' in col or 'days_i' in col or 'year_ind' in col:\n",
    "        fixed.append(col)"
   ]
  },
  {
   "cell_type": "code",
   "execution_count": 76,
   "metadata": {},
   "outputs": [
    {
     "name": "stdout",
     "output_type": "stream",
     "text": [
      "-6.369863682777258\n",
      "-0.0484466255348826\n",
      "-7.090465831937396\n",
      "-0.07072380133669583\n"
     ]
    }
   ],
   "source": [
    "for Yname in out:\n",
    "    Y = wf_spring[wf_spring[\"t_group\"] == 0][Yname]\n",
    "    X = wf_spring[wf_spring[\"t_group\"] == 0][fixed + weather]\n",
    "    lr = LinearRegression()\n",
    "    lr.fit(X, Y)\n",
    "    print(lr.coef_[0])"
   ]
  }
 ],
 "metadata": {
  "interpreter": {
   "hash": "6a525e117b74db75a0938b9a7ba442b7bcb3e21c3f177debe4c065c7a7c1b83e"
  },
  "kernelspec": {
   "display_name": "nn_class",
   "language": "python",
   "name": "nn_class"
  },
  "language_info": {
   "codemirror_mode": {
    "name": "ipython",
    "version": 3
   },
   "file_extension": ".py",
   "mimetype": "text/x-python",
   "name": "python",
   "nbconvert_exporter": "python",
   "pygments_lexer": "ipython3",
   "version": "3.7.12"
  }
 },
 "nbformat": 4,
 "nbformat_minor": 2
}
